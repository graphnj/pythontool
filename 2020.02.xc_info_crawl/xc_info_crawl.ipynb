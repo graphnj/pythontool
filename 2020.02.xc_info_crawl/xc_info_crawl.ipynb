{
 "cells": [
  {
   "cell_type": "code",
   "execution_count": 40,
   "metadata": {},
   "outputs": [
    {
     "ename": "SyntaxError",
     "evalue": "invalid syntax (<ipython-input-40-6906d750e555>, line 23)",
     "output_type": "error",
     "traceback": [
      "\u001b[1;36m  File \u001b[1;32m\"<ipython-input-40-6906d750e555>\"\u001b[1;36m, line \u001b[1;32m23\u001b[0m\n\u001b[1;33m    body =     {\"CorpPayType\":\"public\",xxx,\"Page\":1}\u001b[0m\n\u001b[1;37m                                          ^\u001b[0m\n\u001b[1;31mSyntaxError\u001b[0m\u001b[1;31m:\u001b[0m invalid syntax\n"
     ]
    }
   ],
   "source": [
    "# coding = utf-8\n",
    "import requests\n",
    "import json\n",
    "import time\n",
    "\n",
    "\n",
    "url = 'https://xxx.com/apipath'\n",
    "headers = \\\n",
    "    {\n",
    "        \"authority\": \"ct.ctrip.com\",\n",
    "\"method\": \"POST\",\n",
    "\"path\": \"/apipath\",\n",
    "\"scheme\": \"https\",\n",
    "\"accept\": \"application/json\",\n",
    "\"accept-encoding\": \"gzip, deflate, br\",\n",
    "\"accept-language\": \"zh-CN,zh;q=0.9,en;q=0.8\",\n",
    "\"cache-control\": \"no-cache\",\n",
    "\"content-type\": \"application/json;charset=UTF-8\",\n",
    "\"xxx\": \"xxxxx\",\n",
    "\"sec-fetch-mode\": \"cors\",\n",
    "\"sec-fetch-site\": \"same-origin\",\n",
    "\"user-agent\": \"Mozilla/5.0 (Windows NT 10.0; Win64; x64) AppleWebKit/537.36 (KHTML, like Gecko) Chrome/79.0.3945.130 Safari/537.36\"\n",
    "    }\n",
    "body = \\\n",
    "    {\"zzz\":\"public\",\"xxx\":\"yyy\",\"Page\":1}\n",
    "f=open('out2.txt','a+')\n",
    "for i in range(50):\n",
    "    body[\"Page\"]=i\n",
    "    r = requests.post(url,headers=headers,data=json.dumps(body))\n",
    "    f.write(r.text+'\\r\\n')\n",
    "    time.sleep(3)\n",
    "    print(r.text)\n",
    "    print(r.url)\n",
    "f.close()"
   ]
  },
  {
   "cell_type": "code",
   "execution_count": 37,
   "metadata": {},
   "outputs": [],
   "source": [
    "import json\n",
    "load_dict={}\n",
    "with open(\"out.txt\",'r') as load_f:\n",
    "     load_dict = json.load(load_f)\n",
    "     #print(load_dict)\n",
    "\n",
    "result=[]\n",
    "uidset=set()\n",
    "csvfile=open('outcsv.csv','w')\n",
    "for rec in load_dict:\n",
    "    d={}\n",
    "    if rec['uid'] in uidset:\n",
    "        continue\n",
    "    uidset.add(rec['uid'])\n",
    "    d['uid']=rec['uid']\n",
    "    d['dep']=rec['dep']\n",
    "    d['name']=rec['name']\n",
    "    d['passport']=rec['passport']\n",
    "    d['passengerId']=rec['passengerId']\n",
    "    d['card']=rec['source']['fdefault']['1']['card']\n",
    "    d['gender']=rec['source']['fdefault']['1']['sex']\n",
    "    d['tel']=rec['tels'][0]['tel']\n",
    "    d['travelcard']=''\n",
    "    if rec.get('travelCard'):\n",
    "        for trav in rec['travelCard']:\n",
    "            d['travelcard']+=trav['club']+'-'+trav['cardId']+trav['cardName']+'-'+trav['cardNo']+';'\n",
    "    \n",
    "    line=','.join([k for k in d.values()])\n",
    "    print(line)\n",
    "    csvfile.write(line+'\\n')\n",
    "    result.append(d)\n",
    "csvfile.close()"
   ]
  },
  {
   "cell_type": "code",
   "execution_count": null,
   "metadata": {},
   "outputs": [],
   "source": []
  },
  {
   "cell_type": "code",
   "execution_count": 25,
   "metadata": {},
   "outputs": [
    {
     "data": {
      "text/plain": [
       "207"
      ]
     },
     "execution_count": 25,
     "metadata": {},
     "output_type": "execute_result"
    }
   ],
   "source": [
    "len(result)"
   ]
  }
 ],
 "metadata": {
  "kernelspec": {
   "display_name": "Python 3",
   "language": "python",
   "name": "python3"
  },
  "language_info": {
   "codemirror_mode": {
    "name": "ipython",
    "version": 3
   },
   "file_extension": ".py",
   "mimetype": "text/x-python",
   "name": "python",
   "nbconvert_exporter": "python",
   "pygments_lexer": "ipython3",
   "version": "3.6.5"
  }
 },
 "nbformat": 4,
 "nbformat_minor": 2
}
