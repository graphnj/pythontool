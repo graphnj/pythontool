{
 "cells": [
  {
   "cell_type": "code",
   "execution_count": 5,
   "metadata": {},
   "outputs": [
    {
     "data": {
      "text/plain": [
       "['2020-01-06-16-14-24S_542.jpg',\n",
       " '2020-01-06-13-06-36S_582.jpg',\n",
       " '2020-01-06-16-14-17S_547.jpg']"
      ]
     },
     "execution_count": 5,
     "metadata": {},
     "output_type": "execute_result"
    }
   ],
   "source": [
    "#准备工作\n",
    "import cv2,json,os\n",
    "\n",
    "srcpath='../../input/2020nianhui-img'\n",
    "dstpath='../../../input/imgsmall/'\n",
    "imglist=os.listdir(srcpath)\n",
    "#os.mkdir(dstpath)\n",
    "'''\n",
    "for i in imglist:\n",
    "    path=srcpath+i\n",
    "    img=cv2.imread(path)\n",
    "    smallimg=cv2.resize(img, None, fx=0.3, fy=0.3, interpolation=cv2.INTER_AREA)\n",
    "    cv2.imwrite(dstpath+i,smallimg)\n",
    "'''\n",
    "imglist[:3]"
   ]
  },
  {
   "cell_type": "code",
   "execution_count": 13,
   "metadata": {},
   "outputs": [],
   "source": [
    "import base64,numpy as np\n",
    "import struct\n",
    "def base64Tofloat(kb_feature):\n",
    "    # feather = base64.b16decode(kb_feature)\n",
    "    feature = base64.b64decode(kb_feature)\n",
    "    float_out = []\n",
    "    if len(feature) >= 2060:\n",
    "        for i in range(12,12 + 512 * 4, 4):\n",
    "            x = feature[i:i + 4]\n",
    "            float_out.append(struct.unpack('f', x)[0])\n",
    "    return float_out"
   ]
  },
  {
   "cell_type": "code",
   "execution_count": 4,
   "metadata": {},
   "outputs": [],
   "source": [
    "import requests\n",
    "import hashlib\n",
    "import time\n",
    "import matplotlib.pyplot as plt\n",
    "import cv2,json,os\n",
    "#plt.figure(figsize=(15, 12)) \n",
    "url = \"http://10.45.154.64:9010/trajectory/reid/feature\"\n",
    "url=\"http://10.45.154.129/verify/face/detectAndQuality\"\n",
    "#url=\"http://10.45.154.64:9010/verify/face/detect\"\n",
    "\n",
    "fdetectlog=open('africadetect.log','w')\n",
    "\n",
    "def detectface_znv(seq,imgname,isShowImg=False,isOutImgWithRect=False):\n",
    "    files = {'imageData':open(imgname,'rb')}\n",
    "    reponse = requests.post(url,files=files)\n",
    "\n",
    "    text = reponse.text\n",
    "    #print(text)\n",
    "    text=json.loads(text)\n",
    "    if text['result']=='error':\n",
    "        print(text)\n",
    "        return\n",
    "    rst=text['data'][0]['result']\n",
    "    fname=imgname.split('/')[-1][:-4]\n",
    "    frame=cv2.imread(imgname)\n",
    "    if rst==None:\n",
    "        ss=fname+\" detect face:none!\"\n",
    "        print(ss)\n",
    "        fdetectlog.write(ss+'\\n')\n",
    "        return \n",
    "    ss=fname+\" detect face:%d\"%len(rst)+str(rst)\n",
    "    print(ss)\n",
    "    fdetectlog.write(ss+'\\n')\n",
    "    cnt=0\n",
    "    for rec in rst:\n",
    "        rect=rec['rect']\n",
    "        #featurestr=rec['feature']\n",
    "        #if rec['quality']<0.99:\n",
    "        #    continue\n",
    "        #feature=base64Tofloat(featurestr)\n",
    "        #print(feature.shape)\n",
    "        #print(feature)\n",
    "        #featurearr.append(feature)\n",
    "        #print(rect)\n",
    "        #cv2.rectangle(frame, (rect[0], rect[1]), (rect[2], rect[3]), (255, 0, 0), 2)\n",
    "        rect0=0 if rect[0]-20<0 else rect[0]-20\n",
    "        rect1=0 if rect[1]-20<0 else rect[1]-20\n",
    "        rect2=frame.shape[1] if rect[2]+20>frame.shape[1] else rect[2]+20\n",
    "        rect3=frame.shape[0] if rect[3]+20>frame.shape[0] else rect[3]+20\n",
    "        \n",
    "        #cv2.imwrite('africa/%s-%d.jpg'%(fname,cnt),frame[rect[1]:rect[3],rect[0]:rect[2],:])\n",
    "        cv2.imwrite('africa/%s-face-%d.jpg'%(fname,cnt),frame[rect1:rect3,rect0:rect2,:])\n",
    "        #imginfo[seq]={\"name\":i,\"score\":rec['quality'],\"rect\":rect}\n",
    "        cnt=cnt+1\n",
    "\n",
    "    #截完小图后输出画rect的大图\n",
    "    if isOutImgWithRect:\n",
    "        for rec in rst:\n",
    "            rect=rec['rect']\n",
    "            cv2.rectangle(frame, (rect[0], rect[1]), (rect[2], rect[3]), (255, 0, 0), 2)\n",
    "    \n",
    "        cv2.imwrite('africa/%s-rect.jpg'%fname,frame)\n",
    "\n",
    "\n",
    "    #print (text)\n",
    "    if isShowImg:\n",
    "        im2 = frame[:,:,::-1]\n",
    "        #recx=rst[3]['rect']\n",
    "        plt.figure(figsize=(40,80))\n",
    "        plt.imshow(im2)\n",
    "\n",
    "    \n",
    "  "
   ]
  },
  {
   "cell_type": "code",
   "execution_count": 6,
   "metadata": {},
   "outputs": [],
   "source": [
    "import dlib\n",
    "dlibdetector = dlib.get_frontal_face_detector()\n",
    "def detectface_dlib(seq,imgname,isShowImg=False,isOutImgWithRect=False):\n",
    "    fname=imgname.split('/')[-1][:-4]\n",
    "    frame=cv2.imread(imgname)\n",
    "\n",
    "    dets = dlibdetector(frame, 1)\n",
    "    if dets==None:\n",
    "        ss=fname+\" detect face:none!\"\n",
    "        print(ss)\n",
    "        fdetectlog.write(ss+'\\n')\n",
    "        return \n",
    "    ss=fname+\" detect face:%d\"%len(dets)+str(dets)\n",
    "    print(ss)\n",
    "    fdetectlog.write(ss+'\\n')\n",
    "    fdetectlog.flush()\n",
    "    print(\"Number of faces detected: {}\".format(len(dets)))\n",
    "    cnt=0\n",
    "    for i, d in enumerate(dets):\n",
    "        #print(\"Detection {}: Left: {} Top: {} Right: {} Bottom: {}\".format(\n",
    "        #    i, d.left(), d.top(), d.right(), d.bottom()))\n",
    "        rect0=0 if d.left()-20<0 else d.left()-20\n",
    "        rect1=0 if d.top()-20<0 else d.top()-20\n",
    "        rect2=frame.shape[1] if d.right()+20>frame.shape[1] else d.right()+20\n",
    "        rect3=frame.shape[0] if d.bottom()+20>frame.shape[0] else d.bottom()+20\n",
    "        \n",
    "        #cv2.imwrite('africa/%s-%d.jpg'%(fname,cnt),frame[rect[1]:rect[3],rect[0]:rect[2],:])\n",
    "        cv2.imwrite('africadlib/%s-face-%d.jpg'%(fname,cnt),frame[rect1:rect3,rect0:rect2,:])\n",
    "        #imginfo[seq]={\"name\":i,\"score\":rec['quality'],\"rect\":rect}\n",
    "        cnt=cnt+1\n",
    "\n",
    "    #截完小图后输出画rect的大图\n",
    "    if isOutImgWithRect:\n",
    "        for i, d in enumerate(dets):\n",
    "            cv2.rectangle(frame, (d.left(), d.top()), (d.right(), d.bottom()), (255, 0, 0), 2)\n",
    "    \n",
    "        cv2.imwrite('africadlib/%s-rect.jpg'%fname,frame)\n",
    "    \n",
    "        #print (text)\n",
    "    if isShowImg:\n",
    "        im2 = frame[:,:,::-1]\n",
    "        #recx=rst[3]['rect']\n",
    "        plt.figure(figsize=(40,80))\n",
    "        plt.imshow(im2)"
   ]
  },
  {
   "cell_type": "code",
   "execution_count": 7,
   "metadata": {},
   "outputs": [
    {
     "name": "stdout",
     "output_type": "stream",
     "text": [
      "11.mp4-000001 detect face:0rectangles[]\n",
      "Number of faces detected: 0\n"
     ]
    }
   ],
   "source": [
    "# 正式代码 \n",
    "imgpath='../../input/africaimages/'\n",
    "imglist=os.listdir(imgpath)\n",
    "#imgname='1.jpg'\n",
    "seq=0\n",
    "featurearr=[]\n",
    "imginfo={}\n",
    "for imgfname in imglist[:1]:\n",
    "    imgname=imgpath+imgfname\n",
    "    #imgname='../../../input/imgsmall/2020-01-06-14-01-29S_569.jpg'\n",
    "    detectface_dlib(seq,imgname)\n",
    "    #print(imgfname)\n"
   ]
  },
  {
   "cell_type": "code",
   "execution_count": 8,
   "metadata": {},
   "outputs": [
    {
     "name": "stdout",
     "output_type": "stream",
     "text": [
      "11.mp4-000784 detect face:3rectangles[[(194, 727) (237, 770)], [(621, 967) (664, 1010)], [(794, 698) (837, 742)]]\n",
      "Number of faces detected: 3\n",
      "{'result': 'error', 'errorMessage': 'SDK_ERROR:_NO_FACE_DETECTED', 'time_used': 2528}\n"
     ]
    }
   ],
   "source": [
    "#单张验证可行性\n",
    "imgname='../../input/africaimages/11.mp4-000784.jpg'\n",
    "seq=111\n",
    "detectface_dlib(seq,imgname,isShowImg=False)\n",
    "detectface_znv(seq,imgname,isShowImg=False)"
   ]
  },
  {
   "cell_type": "code",
   "execution_count": 29,
   "metadata": {},
   "outputs": [
    {
     "name": "stdout",
     "output_type": "stream",
     "text": [
      "Collecting dlib\n",
      "\u001b[?25l  Downloading https://files.pythonhosted.org/packages/63/92/05c3b98636661cb80d190a5a777dd94effcc14c0f6893222e5ca81e74fbc/dlib-19.19.0.tar.gz (3.2MB)\n",
      "\u001b[K     |████████████████████████████████| 3.2MB 6.9kB/s eta 0:00:016\n",
      "\u001b[?25hBuilding wheels for collected packages: dlib\n",
      "  Building wheel for dlib (setup.py) ... \u001b[?25ldone\n",
      "\u001b[?25h  Created wheel for dlib: filename=dlib-19.19.0-cp36-cp36m-linux_x86_64.whl size=3497780 sha256=8b587b0c7d02ab380ce00f5f0a7c589d09ae9b6189bc4274bfb31e769714ac1e\n",
      "  Stored in directory: /root/.cache/pip/wheels/96/ac/11/8aadec62cb4fb5b264a9b1b042caf415de9a75f5e165d79a51\n",
      "Successfully built dlib\n",
      "Installing collected packages: dlib\n",
      "Successfully installed dlib-19.19.0\n",
      "\u001b[33mWARNING: You are using pip version 19.3.1; however, version 20.0.2 is available.\n",
      "You should consider upgrading via the 'pip install --upgrade pip' command.\u001b[0m\n"
     ]
    }
   ],
   "source": [
    "!pip install dlib"
   ]
  },
  {
   "cell_type": "markdown",
   "metadata": {},
   "source": [
    "# 以下是reid测试代码，此处无关"
   ]
  },
  {
   "cell_type": "code",
   "execution_count": 95,
   "metadata": {},
   "outputs": [],
   "source": [
    "featurearrnp=np.array(featurearr)"
   ]
  },
  {
   "cell_type": "code",
   "execution_count": 84,
   "metadata": {},
   "outputs": [],
   "source": [
    "from sklearn.metrics import pairwise_distances\n",
    "from scipy.spatial.distance import cosine"
   ]
  },
  {
   "cell_type": "code",
   "execution_count": 97,
   "metadata": {},
   "outputs": [],
   "source": [
    "\n",
    "def search(imgfile):\n",
    "    files = {'imageData':imgfile}\n",
    "\n",
    "    response = requests.post(url,files=files)\n",
    "\n",
    "    text = response.text\n",
    "    rst=json.loads(text)['data'][0]['result']\n",
    "    if type(rst)!= list and rst.get('errorMessage'):\n",
    "        return []\n",
    "    frame=cv2.imread(imgname)\n",
    "    \n",
    "    rec=rst[0]\n",
    "    rect=rec['rect']\n",
    "    featurestr=rec['feature'][16:]\n",
    "    import base64,numpy as np\n",
    "    t=base64.b64decode(featurestr)\n",
    "    s=str(t,encoding = \"utf-8\").split(' ')\n",
    "    feature=np.array(s).astype(np.float32)\n",
    "    \n",
    "\n",
    "    cr=1-pairwise_distances([feature],featurearrnp, metric=\"cosine\")\n",
    "    return cr"
   ]
  },
  {
   "cell_type": "code",
   "execution_count": 109,
   "metadata": {},
   "outputs": [
    {
     "name": "stdout",
     "output_type": "stream",
     "text": [
      "[217   1 206 191 193  12 202 220 208 205 201 211   4   3  46 190  11  44\n",
      "  15  49 209   6 219  47   2  14 194 830 855 824]\n",
      "{'id': 217, 'sim': 0.99714464, 'name': '2020-01-06-16-14-24S_544.jpg', 'score': 0.8836191892623901, 'rect': [524, 275, 668, 716]}\n",
      "{'id': 1, 'sim': 0.9970808, 'name': '2020-01-06-16-14-24S_542.jpg', 'score': 0.918098509311676, 'rect': [503, 249, 661, 716]}\n",
      "{'id': 206, 'sim': 0.99675417, 'name': '2020-01-06-16-14-24S_543.jpg', 'score': 0.9299959540367126, 'rect': [500, 258, 669, 744]}\n",
      "{'id': 191, 'sim': 0.9952736, 'name': '2020-01-06-16-14-17S_545.jpg', 'score': 0.8294156789779663, 'rect': [526, 248, 685, 717]}\n",
      "{'id': 193, 'sim': 0.99514365, 'name': '2020-01-06-16-14-17S_545.jpg', 'score': 0.6181460618972778, 'rect': [400, 232, 540, 666]}\n",
      "{'id': 12, 'sim': 0.9950071, 'name': '2020-01-06-16-14-17S_547.jpg', 'score': 0.8688951134681702, 'rect': [520, 246, 682, 722]}\n",
      "{'id': 202, 'sim': 0.99400175, 'name': '2020-01-06-16-14-17S_546.jpg', 'score': 0.8459798693656921, 'rect': [520, 248, 677, 729]}\n",
      "{'id': 220, 'sim': 0.99284077, 'name': '2020-01-06-16-14-24S_544.jpg', 'score': 0.7091952562332153, 'rect': [366, 273, 517, 700]}\n",
      "{'id': 208, 'sim': 0.9926133, 'name': '2020-01-06-16-14-24S_543.jpg', 'score': 0.8786517977714539, 'rect': [566, 265, 729, 718]}\n",
      "{'id': 205, 'sim': 0.992398, 'name': '2020-01-06-16-14-17S_546.jpg', 'score': 0.4350057542324066, 'rect': [416, 255, 571, 732]}\n",
      "{'id': 201, 'sim': 0.99223864, 'name': '2020-01-06-16-14-17S_546.jpg', 'score': 0.898034930229187, 'rect': [894, 296, 1028, 714]}\n",
      "{'id': 211, 'sim': 0.9920728, 'name': '2020-01-06-16-14-24S_543.jpg', 'score': 0.6760150194168091, 'rect': [371, 264, 517, 687]}\n",
      "{'id': 4, 'sim': 0.99202985, 'name': '2020-01-06-16-14-24S_542.jpg', 'score': 0.7973180413246155, 'rect': [376, 261, 517, 647]}\n",
      "{'id': 3, 'sim': 0.99198925, 'name': '2020-01-06-16-14-24S_542.jpg', 'score': 0.8427867293357849, 'rect': [882, 291, 1019, 732]}\n",
      "{'id': 46, 'sim': 0.9919879, 'name': '2020-01-06-16-15-56S_533.jpg', 'score': 0.9286655187606812, 'rect': [647, 280, 836, 684]}\n",
      "{'id': 190, 'sim': 0.9917346, 'name': '2020-01-06-16-14-17S_545.jpg', 'score': 0.9084792733192444, 'rect': [895, 292, 1028, 723]}\n"
     ]
    },
    {
     "data": {
      "text/plain": [
       "[{'id': 217,\n",
       "  'sim': 0.99714464,\n",
       "  'name': '2020-01-06-16-14-24S_544.jpg',\n",
       "  'score': 0.8836191892623901,\n",
       "  'rect': [524, 275, 668, 716]},\n",
       " {'id': 1,\n",
       "  'sim': 0.9970808,\n",
       "  'name': '2020-01-06-16-14-24S_542.jpg',\n",
       "  'score': 0.918098509311676,\n",
       "  'rect': [503, 249, 661, 716]},\n",
       " {'id': 206,\n",
       "  'sim': 0.99675417,\n",
       "  'name': '2020-01-06-16-14-24S_543.jpg',\n",
       "  'score': 0.9299959540367126,\n",
       "  'rect': [500, 258, 669, 744]},\n",
       " {'id': 191,\n",
       "  'sim': 0.9952736,\n",
       "  'name': '2020-01-06-16-14-17S_545.jpg',\n",
       "  'score': 0.8294156789779663,\n",
       "  'rect': [526, 248, 685, 717]},\n",
       " {'id': 193,\n",
       "  'sim': 0.99514365,\n",
       "  'name': '2020-01-06-16-14-17S_545.jpg',\n",
       "  'score': 0.6181460618972778,\n",
       "  'rect': [400, 232, 540, 666]},\n",
       " {'id': 12,\n",
       "  'sim': 0.9950071,\n",
       "  'name': '2020-01-06-16-14-17S_547.jpg',\n",
       "  'score': 0.8688951134681702,\n",
       "  'rect': [520, 246, 682, 722]},\n",
       " {'id': 202,\n",
       "  'sim': 0.99400175,\n",
       "  'name': '2020-01-06-16-14-17S_546.jpg',\n",
       "  'score': 0.8459798693656921,\n",
       "  'rect': [520, 248, 677, 729]},\n",
       " {'id': 220,\n",
       "  'sim': 0.99284077,\n",
       "  'name': '2020-01-06-16-14-24S_544.jpg',\n",
       "  'score': 0.7091952562332153,\n",
       "  'rect': [366, 273, 517, 700]},\n",
       " {'id': 208,\n",
       "  'sim': 0.9926133,\n",
       "  'name': '2020-01-06-16-14-24S_543.jpg',\n",
       "  'score': 0.8786517977714539,\n",
       "  'rect': [566, 265, 729, 718]},\n",
       " {'id': 205,\n",
       "  'sim': 0.992398,\n",
       "  'name': '2020-01-06-16-14-17S_546.jpg',\n",
       "  'score': 0.4350057542324066,\n",
       "  'rect': [416, 255, 571, 732]},\n",
       " {'id': 201,\n",
       "  'sim': 0.99223864,\n",
       "  'name': '2020-01-06-16-14-17S_546.jpg',\n",
       "  'score': 0.898034930229187,\n",
       "  'rect': [894, 296, 1028, 714]},\n",
       " {'id': 211,\n",
       "  'sim': 0.9920728,\n",
       "  'name': '2020-01-06-16-14-24S_543.jpg',\n",
       "  'score': 0.6760150194168091,\n",
       "  'rect': [371, 264, 517, 687]},\n",
       " {'id': 4,\n",
       "  'sim': 0.99202985,\n",
       "  'name': '2020-01-06-16-14-24S_542.jpg',\n",
       "  'score': 0.7973180413246155,\n",
       "  'rect': [376, 261, 517, 647]},\n",
       " {'id': 3,\n",
       "  'sim': 0.99198925,\n",
       "  'name': '2020-01-06-16-14-24S_542.jpg',\n",
       "  'score': 0.8427867293357849,\n",
       "  'rect': [882, 291, 1019, 732]},\n",
       " {'id': 46,\n",
       "  'sim': 0.9919879,\n",
       "  'name': '2020-01-06-16-15-56S_533.jpg',\n",
       "  'score': 0.9286655187606812,\n",
       "  'rect': [647, 280, 836, 684]},\n",
       " {'id': 190,\n",
       "  'sim': 0.9917346,\n",
       "  'name': '2020-01-06-16-14-17S_545.jpg',\n",
       "  'score': 0.9084792733192444,\n",
       "  'rect': [895, 292, 1028, 723]}]"
      ]
     },
     "execution_count": 109,
     "metadata": {},
     "output_type": "execute_result"
    }
   ],
   "source": [
    "imgfile=open('tmp/1.jpg','rb')\n",
    "cr=search(imgfile)\n",
    "sortimg = np.argsort(-cr[0]) \n",
    "print(sortimg[:30])\n",
    "ret=[]\n",
    "for imgidx in sortimg[:16]:\n",
    "    inf=imginfo[imgidx]\n",
    "    x={'id':imgidx,'sim':cr[0][imgidx],'name':inf['name'],'score':inf['score'],'rect':inf['rect']}\n",
    "    print(x)\n",
    "    ret.append(x)\n",
    "ret"
   ]
  },
  {
   "cell_type": "code",
   "execution_count": 19,
   "metadata": {},
   "outputs": [
    {
     "data": {
      "text/plain": [
       "37"
      ]
     },
     "execution_count": 19,
     "metadata": {},
     "output_type": "execute_result"
    }
   ],
   "source": [
    "frame=cv2.imread('africa/11.mp4-000780-0.jpg')\n",
    "frame.shape[0]"
   ]
  },
  {
   "cell_type": "code",
   "execution_count": null,
   "metadata": {},
   "outputs": [],
   "source": [
    "from flask import Flask, render_template, request, redirect, url_for, make_response,jsonify\n",
    "from werkzeug.utils import secure_filename\n",
    "import os\n",
    "import cv2\n",
    "import time\n",
    " \n",
    "from datetime import timedelta\n",
    " \n",
    "#设置允许的文件格式\n",
    "ALLOWED_EXTENSIONS = set(['png', 'jpg', 'JPG', 'PNG', 'bmp'])\n",
    " \n",
    "def allowed_file(filename):\n",
    "    return '.' in filename and filename.rsplit('.', 1)[1] in ALLOWED_EXTENSIONS\n",
    " \n",
    "app = Flask(__name__)\n",
    "# 设置静态文件缓存过期时间\n",
    "app.send_file_max_age_default = timedelta(seconds=1)\n",
    " \n",
    " \n",
    "# @app.route('/upload', methods=['POST', 'GET'])\n",
    "@app.route('/upload', methods=['POST', 'GET'])  # 添加路由\n",
    "def upload():\n",
    "    if request.method == 'POST':\n",
    "        f = request.files['file']\n",
    " \n",
    "        if not (f and allowed_file(f.filename)):\n",
    "            return jsonify({\"error\": 1001, \"msg\": \"请检查上传的图片类型，仅限于png、PNG、jpg、JPG、bmp\"})\n",
    " \n",
    "        user_input = request.form.get(\"name\")\n",
    " \n",
    "        basepath = os.path.dirname(__file__)  # 当前文件所在路径\n",
    " \n",
    "        upload_path = os.path.join(basepath, 'static/images', secure_filename(f.filename))  # 注意：没有的文件夹一定要先创建，不然会提示没有该路径\n",
    "        # upload_path = os.path.join(basepath, 'static/images','test.jpg')  #注意：没有的文件夹一定要先创建，不然会提示没有该路径\n",
    "        f.save(upload_path)\n",
    " \n",
    "        # 使用Opencv转换一下图片格式和名称\n",
    "        img = cv2.imread(upload_path)\n",
    "        cv2.imwrite(os.path.join(basepath, 'static/images', 'test.jpg'), img)\n",
    " \n",
    "        return render_template('upload_ok.html',userinput=user_input,val1=time.time())\n",
    " \n",
    "    return render_template('upload.html')\n",
    " \n",
    " \n",
    "if __name__ == '__main__':\n",
    "    # app.debug = True\n",
    "    app.run(host='0.0.0.0', port=8987, debug=True)\n"
   ]
  },
  {
   "cell_type": "code",
   "execution_count": 94,
   "metadata": {},
   "outputs": [
    {
     "data": {
      "text/plain": [
       "array([[0.9753269 , 0.99999994, 0.9877226 , ..., 0.9746718 , 0.9585495 ,\n",
       "        0.9750606 ]], dtype=float32)"
      ]
     },
     "execution_count": 94,
     "metadata": {},
     "output_type": "execute_result"
    }
   ],
   "source": [
    "y=np.array(featurearr)\n",
    "cr=1-pairwise_distances([y[1]],y, metric=\"cosine\")\n",
    "cr"
   ]
  }
 ],
 "metadata": {
  "kernelspec": {
   "display_name": "Python 3",
   "language": "python",
   "name": "python3"
  },
  "language_info": {
   "codemirror_mode": {
    "name": "ipython",
    "version": 3
   },
   "file_extension": ".py",
   "mimetype": "text/x-python",
   "name": "python",
   "nbconvert_exporter": "python",
   "pygments_lexer": "ipython3",
   "version": "3.6.9"
  }
 },
 "nbformat": 4,
 "nbformat_minor": 2
}
